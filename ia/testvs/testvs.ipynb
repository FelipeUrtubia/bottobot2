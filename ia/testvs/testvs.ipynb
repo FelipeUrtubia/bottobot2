{
 "cells": [
  {
   "cell_type": "code",
   "execution_count": 1,
   "metadata": {},
   "outputs": [
    {
     "name": "stdout",
     "output_type": "stream",
     "text": [
      "Found 2500 images belonging to 5 classes.\n",
      "Found 500 images belonging to 5 classes.\n",
      "{'Comedor': 0, 'Gamer': 1, 'Mesedoras': 2, 'Taburete': 3, 'Terraza': 4}\n",
      "{'Comedor': 0, 'Gamer': 1, 'Mesedoras': 2, 'Taburete': 3, 'Terraza': 4}\n"
     ]
    }
   ],
   "source": [
    "# Importe de librerias que se van a utilizar\n",
    "import time\n",
    "import numpy as np\n",
    "from tensorflow.keras.models import Sequential\n",
    "from tensorflow.keras.layers import Dense, Conv2D, MaxPool2D, Flatten, Activation\n",
    "from tensorflow.keras import backend as K\n",
    "from tensorflow.keras.preprocessing.image import ImageDataGenerator\n",
    "from keras.utils.vis_utils import plot_model\n",
    "from tensorflow.keras.callbacks import TensorBoard\n",
    "\n",
    "# Configuracion inicial de la red neuronal\n",
    "img_width, img_height = 70,70 # width y height para las imagen de entrada\n",
    "input_depth = 1 #1: Transformación a escala de grises\n",
    "train_data_dir = '../datasets/ChairsDataset/training' # Direccion de la carpeta de training\n",
    "testing_data_dir = '../datasets/ChairsDataset/testing' # Direccion de la carpeta de testing\n",
    "epochs = 10 # Numero de epochs a utilizar\n",
    "batch_size = 5 # Numero de Batches a utilizar\n",
    "\n",
    "# Definicion de la generacion de imagenes para Keras,\n",
    "# Nomalizacion de las imagenes de entrada, (valores de 0 a 1)\n",
    "train_datagen = ImageDataGenerator(rescale=1/255)\n",
    "test_datagen = ImageDataGenerator(rescale=1/255)\n",
    "\n",
    "# Lectura de las imagenes por batch\n",
    "train_generator = train_datagen.flow_from_directory(\n",
    "    train_data_dir,\n",
    "    color_mode='grayscale',\n",
    "    target_size=(img_width,img_height),# Tamano de las imagenes de entrada\n",
    "    batch_size=batch_size,# Tamaño batch\n",
    "    shuffle=True,# aleatorizacion de los datos\n",
    "    class_mode='categorical')# Definición del modelo de red neuronal como categorico\n",
    "testing_generator = test_datagen.flow_from_directory(\n",
    "    testing_data_dir,\n",
    "    color_mode='grayscale',\n",
    "    target_size=(img_width,img_height),\n",
    "    batch_size=batch_size,\n",
    "    shuffle=True,\n",
    "    class_mode='categorical')\n",
    "\n",
    "# Confirmacion de la configuracion de la red neuronal\n",
    "print(train_generator.class_indices)\n",
    "\n",
    "\n",
    "\n",
    "\n",
    "\n",
    "\n",
    "print(testing_generator.class_indices)"
   ]
  },
  {
   "cell_type": "code",
   "execution_count": 2,
   "metadata": {},
   "outputs": [
    {
     "name": "stdout",
     "output_type": "stream",
     "text": [
      "Model: \"sequential\"\n",
      "_________________________________________________________________\n",
      " Layer (type)                Output Shape              Param #   \n",
      "=================================================================\n",
      " input_tensor (Conv2D)       (None, 70, 70, 64)        1664      \n",
      "                                                                 \n",
      " activation (Activation)     (None, 70, 70, 64)        0         \n",
      "                                                                 \n",
      " max_pooling2d (MaxPooling2D  (None, 35, 35, 64)       0         \n",
      " )                                                               \n",
      "                                                                 \n",
      " conv2d (Conv2D)             (None, 35, 35, 64)        102464    \n",
      "                                                                 \n",
      " activation_1 (Activation)   (None, 35, 35, 64)        0         \n",
      "                                                                 \n",
      " max_pooling2d_1 (MaxPooling  (None, 17, 17, 64)       0         \n",
      " 2D)                                                             \n",
      "                                                                 \n",
      " conv2d_1 (Conv2D)           (None, 17, 17, 64)        102464    \n",
      "                                                                 \n",
      " activation_2 (Activation)   (None, 17, 17, 64)        0         \n",
      "                                                                 \n",
      " max_pooling2d_2 (MaxPooling  (None, 8, 8, 64)         0         \n",
      " 2D)                                                             \n",
      "                                                                 \n",
      " flatten (Flatten)           (None, 4096)              0         \n",
      "                                                                 \n",
      " output_tensor (Dense)       (None, 5)                 20485     \n",
      "                                                                 \n",
      "=================================================================\n",
      "Total params: 227,077\n",
      "Trainable params: 227,077\n",
      "Non-trainable params: 0\n",
      "_________________________________________________________________\n"
     ]
    }
   ],
   "source": [
    "# Definición de la forma de la imagen de entrada\n",
    "if K.image_data_format() == 'channels_first':\n",
    "    input_shape_val = (input_depth, img_width, img_height)\n",
    "else:\n",
    "    input_shape_val = (img_width, img_height, input_depth)\n",
    "\n",
    "NAME = \"RN_sillas-{}\".format(int(time.time()))\n",
    "\n",
    "# Definicon de la red\n",
    "model = Sequential()\n",
    "\n",
    "# Primera capa convolucional\n",
    "model.add(Conv2D(64, (5, 5), \n",
    "                 input_shape=input_shape_val, \n",
    "                 padding='same', name='input_tensor'))\n",
    "model.add(Activation('relu'))\n",
    "model.add(MaxPool2D((2, 2)))\n",
    "\n",
    "# Segunda capa convolucional\n",
    "model.add(Conv2D(64, (5, 5), padding='same'))\n",
    "model.add(Activation('relu'))\n",
    "model.add(MaxPool2D((2, 2)))\n",
    "\n",
    "# Tercera capa convolucional\n",
    "model.add(Conv2D(64, (5, 5), padding='same'))\n",
    "model.add(Activation('relu'))\n",
    "model.add(MaxPool2D((2, 2)))\n",
    "\n",
    "# Aplanamiento de las imagenes\n",
    "model.add(Flatten())\n",
    "\n",
    "# Capa de salida\n",
    "model.add(Dense(train_generator.num_classes, \n",
    "                activation='softmax', name='output_tensor'))\n",
    "\n",
    "# Direccion de la carpeta donde se guardaran los logs (TensorBoard)\n",
    "tensorboard = TensorBoard(log_dir='logs/{}'.format(NAME))\n",
    "\n",
    "# Compilación de la red\n",
    "model.compile(loss='categorical_crossentropy',\n",
    "              optimizer='sgd', metrics=['accuracy'])\n",
    "\n",
    "# Resumen del modelo de la red\n",
    "model.summary()"
   ]
  },
  {
   "cell_type": "code",
   "execution_count": 3,
   "metadata": {},
   "outputs": [
    {
     "name": "stdout",
     "output_type": "stream",
     "text": [
      "Epoch 1/10\n",
      "500/500 [==============================] - 36s 71ms/step - loss: 1.3699 - accuracy: 0.4144 - val_loss: 0.8648 - val_accuracy: 0.6740\n",
      "Epoch 2/10\n",
      "500/500 [==============================] - 35s 69ms/step - loss: 0.7768 - accuracy: 0.7136 - val_loss: 0.6221 - val_accuracy: 0.7940\n",
      "Epoch 3/10\n",
      "500/500 [==============================] - 35s 70ms/step - loss: 0.5622 - accuracy: 0.8084 - val_loss: 0.5051 - val_accuracy: 0.8220\n",
      "Epoch 4/10\n",
      "500/500 [==============================] - 35s 70ms/step - loss: 0.4357 - accuracy: 0.8580 - val_loss: 0.4346 - val_accuracy: 0.8460\n",
      "Epoch 5/10\n",
      "500/500 [==============================] - 35s 69ms/step - loss: 0.3518 - accuracy: 0.8796 - val_loss: 0.4088 - val_accuracy: 0.8700\n",
      "Epoch 6/10\n",
      "500/500 [==============================] - 33s 66ms/step - loss: 0.2969 - accuracy: 0.9028 - val_loss: 0.4222 - val_accuracy: 0.8640\n",
      "Epoch 7/10\n",
      "500/500 [==============================] - 34s 67ms/step - loss: 0.2313 - accuracy: 0.9220 - val_loss: 0.4428 - val_accuracy: 0.8700\n",
      "Epoch 8/10\n",
      "500/500 [==============================] - 33s 67ms/step - loss: 0.1926 - accuracy: 0.9428 - val_loss: 0.4748 - val_accuracy: 0.8480\n",
      "Epoch 9/10\n",
      "500/500 [==============================] - 35s 70ms/step - loss: 0.1619 - accuracy: 0.9460 - val_loss: 0.4508 - val_accuracy: 0.8800\n",
      "Epoch 10/10\n",
      "500/500 [==============================] - 34s 68ms/step - loss: 0.1236 - accuracy: 0.9576 - val_loss: 0.4199 - val_accuracy: 0.8760\n"
     ]
    },
    {
     "data": {
      "text/plain": [
       "<keras.callbacks.History at 0x2df7c56c5e0>"
      ]
     },
     "execution_count": 3,
     "metadata": {},
     "output_type": "execute_result"
    }
   ],
   "source": [
    "# Entrnemaiento y testeo de la red\n",
    "model.fit(\n",
    "    train_generator,#Nuentro generador de entrenamiento\n",
    "    # Numero de iteraciones por epoch = numero de datos / tamaño batch\n",
    "    steps_per_epoch=np.floor(train_generator.n/batch_size),\n",
    "    epochs=epochs,# Numero de epochs\n",
    "    validation_data=testing_generator,#our validation generator Nuentro generador de alidación \n",
    "    # Numero de iteraciones por epoch = numero de datos / tamaño batch\n",
    "    validation_steps=np.floor(testing_generator.n / batch_size),\n",
    "    callbacks=[tensorboard])# Registro de los logs en TensorBoard"
   ]
  },
  {
   "cell_type": "code",
   "execution_count": 4,
   "metadata": {},
   "outputs": [
    {
     "name": "stdout",
     "output_type": "stream",
     "text": [
      "Entrenamiento terminado!\n",
      "El modelo se ha guardado con éxito en: ./model/RN_sillas-1646158450.h5\n"
     ]
    }
   ],
   "source": [
    "print(\"Entrenamiento terminado!\")\n",
    "model.save('./model/{}.h5'.format(NAME))\n",
    "print(\"El modelo se ha guardado con éxito en: ./model/{}.h5\".format(NAME))"
   ]
  }
 ],
 "metadata": {
  "interpreter": {
   "hash": "813ae60c4a6e075adccc991e5600c335fb50a37a1d3538e65f914da64b8ee02b"
  },
  "kernelspec": {
   "display_name": "Python 3 (ipykernel)",
   "language": "python",
   "name": "python3"
  },
  "language_info": {
   "codemirror_mode": {
    "name": "ipython",
    "version": 3
   },
   "file_extension": ".py",
   "mimetype": "text/x-python",
   "name": "python",
   "nbconvert_exporter": "python",
   "pygments_lexer": "ipython3",
   "version": "3.9.7"
  }
 },
 "nbformat": 4,
 "nbformat_minor": 2
}
