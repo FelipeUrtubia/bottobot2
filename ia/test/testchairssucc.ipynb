{
 "cells": [
  {
   "cell_type": "code",
   "execution_count": 1,
   "id": "3a6066bd",
   "metadata": {},
   "outputs": [
    {
     "name": "stdout",
     "output_type": "stream",
     "text": [
      "Found 1252 images belonging to 5 classes.\n",
      "Found 12 images belonging to 5 classes.\n",
      "{'Comedor': 0, 'Gamer': 1, 'Mesedoras': 2, 'Taburete': 3, 'Terraza': 4}\n",
      "{'Comedor': 0, 'Gamer': 1, 'Mesedoras': 2, 'Taburete': 3, 'Terraza': 4}\n"
     ]
    }
   ],
   "source": [
    "# import the needed libraries\n",
    "import numpy as np\n",
    "from tensorflow.keras.models import Sequential\n",
    "from tensorflow.keras.layers import Dense, Conv2D, MaxPool2D, Flatten, Activation\n",
    "from tensorflow.keras import backend as K\n",
    "from tensorflow.keras.preprocessing.image import ImageDataGenerator\n",
    "from keras.utils.vis_utils import plot_model\n",
    "\n",
    "# config\n",
    "img_width, img_height = 50,50 #width & height of input image\n",
    "input_depth = 1 #1: gray image\n",
    "train_data_dir = 'D:/Datasets/testchairs/training' #data training path\n",
    "testing_data_dir = 'D:/Datasets/testchairs/testing' #data testing path\n",
    "epochs = 15 #number of training epoch\n",
    "batch_size = 5 #training batch size\n",
    "\n",
    "# define image generator for Keras,\n",
    "# here, we map pixel intensity to 0-1 /\n",
    "train_datagen = ImageDataGenerator(rescale=1/255)\n",
    "test_datagen = ImageDataGenerator(rescale=1/255)\n",
    "\n",
    "# read image batch by batch\n",
    "train_generator = train_datagen.flow_from_directory(\n",
    "    train_data_dir,\n",
    "    color_mode='grayscale',#inpput iameg: gray\n",
    "    target_size=(img_width,img_height),#input image size\n",
    "    batch_size=batch_size,#batch size\n",
    "    shuffle=True,#randomise images order\n",
    "    class_mode='categorical')#categorical: one-hot encoding format class label\n",
    "testing_generator = test_datagen.flow_from_directory(\n",
    "    testing_data_dir,\n",
    "    color_mode='grayscale',\n",
    "    target_size=(img_width,img_height),\n",
    "    batch_size=batch_size,\n",
    "    shuffle=True,\n",
    "    class_mode='categorical')\n",
    "\n",
    "print(train_generator.class_indices)\n",
    "print(testing_generator.class_indices)"
   ]
  },
  {
   "cell_type": "code",
   "execution_count": 2,
   "id": "91b68256",
   "metadata": {},
   "outputs": [
    {
     "name": "stdout",
     "output_type": "stream",
     "text": [
      "Model: \"sequential\"\n",
      "_________________________________________________________________\n",
      " Layer (type)                Output Shape              Param #   \n",
      "=================================================================\n",
      " input_tensor (Conv2D)       (None, 50, 50, 64)        1664      \n",
      "                                                                 \n",
      " activation (Activation)     (None, 50, 50, 64)        0         \n",
      "                                                                 \n",
      " max_pooling2d (MaxPooling2D  (None, 25, 25, 64)       0         \n",
      " )                                                               \n",
      "                                                                 \n",
      " conv2d (Conv2D)             (None, 25, 25, 64)        102464    \n",
      "                                                                 \n",
      " activation_1 (Activation)   (None, 25, 25, 64)        0         \n",
      "                                                                 \n",
      " max_pooling2d_1 (MaxPooling  (None, 12, 12, 64)       0         \n",
      " 2D)                                                             \n",
      "                                                                 \n",
      " conv2d_1 (Conv2D)           (None, 12, 12, 128)       204928    \n",
      "                                                                 \n",
      " activation_2 (Activation)   (None, 12, 12, 128)       0         \n",
      "                                                                 \n",
      " flatten (Flatten)           (None, 18432)             0         \n",
      "                                                                 \n",
      " dense (Dense)               (None, 10)                184330    \n",
      "                                                                 \n",
      " output_tensor (Dense)       (None, 5)                 55        \n",
      "                                                                 \n",
      "=================================================================\n",
      "Total params: 493,441\n",
      "Trainable params: 493,441\n",
      "Non-trainable params: 0\n",
      "_________________________________________________________________\n"
     ]
    }
   ],
   "source": [
    "# define number of filters and nodes in the fully connected layer\n",
    "NUMB_FILTER_L1 = 64\n",
    "NUMB_FILTER_L2 = 64\n",
    "NUMB_FILTER_L3 = 128\n",
    "NUMB_NODE_FC_LAYER = 10\n",
    "\n",
    "#define input image order shape\n",
    "if K.image_data_format() == 'channels_first':\n",
    "    input_shape_val = (input_depth, img_width, img_height)\n",
    "else:\n",
    "    input_shape_val = (img_width, img_height, input_depth)\n",
    "\n",
    "#define the network\n",
    "model = Sequential()\n",
    "\n",
    "# Layer 1\n",
    "model.add(Conv2D(NUMB_FILTER_L1, (5, 5), \n",
    "                 input_shape=input_shape_val, \n",
    "                 padding='same', name='input_tensor'))\n",
    "model.add(Activation('relu'))\n",
    "model.add(MaxPool2D((2, 2)))\n",
    "\n",
    "# Layer 2\n",
    "model.add(Conv2D(NUMB_FILTER_L2, (5, 5), padding='same'))\n",
    "model.add(Activation('relu'))\n",
    "model.add(MaxPool2D((2, 2)))\n",
    "\n",
    "# Layer 3\n",
    "model.add(Conv2D(NUMB_FILTER_L3, (5, 5), padding='same'))\n",
    "model.add(Activation('relu'))\n",
    "\n",
    "# flattening the model for fully connected layer\n",
    "model.add(Flatten())\n",
    "\n",
    "# fully connected layer\n",
    "model.add(Dense(NUMB_NODE_FC_LAYER, activation='relu'))\n",
    "\n",
    "# output layer\n",
    "model.add(Dense(train_generator.num_classes, \n",
    "                activation='softmax', name='output_tensor'))\n",
    "\n",
    "# Compilile the network\n",
    "model.compile(loss='categorical_crossentropy',\n",
    "              optimizer='sgd', metrics=['accuracy'])\n",
    "\n",
    "# Show the model summary\n",
    "model.summary()"
   ]
  },
  {
   "cell_type": "code",
   "execution_count": 3,
   "id": "a82f678d",
   "metadata": {},
   "outputs": [
    {
     "name": "stdout",
     "output_type": "stream",
     "text": [
      "Epoch 1/15\n",
      "250/250 [==============================] - 9s 34ms/step - loss: 1.0919 - accuracy: 0.4739 - val_loss: 3.5519 - val_accuracy: 0.3000\n",
      "Epoch 2/15\n",
      "250/250 [==============================] - 8s 31ms/step - loss: 0.7124 - accuracy: 0.6889 - val_loss: 3.1804 - val_accuracy: 0.4000\n",
      "Epoch 3/15\n",
      "250/250 [==============================] - 8s 34ms/step - loss: 0.5503 - accuracy: 0.7626 - val_loss: 3.9793 - val_accuracy: 0.4000\n",
      "Epoch 4/15\n",
      "250/250 [==============================] - 8s 31ms/step - loss: 0.4463 - accuracy: 0.8132 - val_loss: 4.0762 - val_accuracy: 0.2000\n",
      "Epoch 5/15\n",
      "250/250 [==============================] - 8s 30ms/step - loss: 0.3882 - accuracy: 0.8268 - val_loss: 5.8079 - val_accuracy: 0.2000\n",
      "Epoch 6/15\n",
      "250/250 [==============================] - 8s 30ms/step - loss: 0.3737 - accuracy: 0.8500 - val_loss: 5.3471 - val_accuracy: 0.3000\n",
      "Epoch 7/15\n",
      "250/250 [==============================] - 7s 30ms/step - loss: 0.3320 - accuracy: 0.8589 - val_loss: 4.7011 - val_accuracy: 0.3000\n",
      "Epoch 8/15\n",
      "250/250 [==============================] - 7s 29ms/step - loss: 0.2988 - accuracy: 0.8669 - val_loss: 5.8498 - val_accuracy: 0.1000\n",
      "Epoch 9/15\n",
      "250/250 [==============================] - 7s 27ms/step - loss: 0.2843 - accuracy: 0.8789 - val_loss: 6.2299 - val_accuracy: 0.1000\n",
      "Epoch 10/15\n",
      "250/250 [==============================] - 7s 29ms/step - loss: 0.2920 - accuracy: 0.8909 - val_loss: 4.5728 - val_accuracy: 0.3000\n",
      "Epoch 11/15\n",
      "250/250 [==============================] - 7s 29ms/step - loss: 0.2542 - accuracy: 0.8925 - val_loss: 7.8492 - val_accuracy: 0.2000\n",
      "Epoch 12/15\n",
      "250/250 [==============================] - 7s 29ms/step - loss: 0.2350 - accuracy: 0.9062 - val_loss: 4.2801 - val_accuracy: 0.3000\n",
      "Epoch 13/15\n",
      "250/250 [==============================] - 7s 29ms/step - loss: 0.2173 - accuracy: 0.9086 - val_loss: 4.5328 - val_accuracy: 0.4000\n",
      "Epoch 14/15\n",
      "250/250 [==============================] - 7s 27ms/step - loss: 0.1926 - accuracy: 0.9206 - val_loss: 5.3119 - val_accuracy: 0.2000\n",
      "Epoch 15/15\n",
      "250/250 [==============================] - 7s 27ms/step - loss: 0.1936 - accuracy: 0.9262 - val_loss: 4.9131 - val_accuracy: 0.3000\n"
     ]
    },
    {
     "data": {
      "text/plain": [
       "<keras.callbacks.History at 0x1e82a337f70>"
      ]
     },
     "execution_count": 3,
     "metadata": {},
     "output_type": "execute_result"
    }
   ],
   "source": [
    "# Train and test the network\n",
    "model.fit(\n",
    "    train_generator,#our training generator\n",
    "    #number of iteration per epoch = number of data / batch size\n",
    "    steps_per_epoch=np.floor(train_generator.n/batch_size),\n",
    "    epochs=epochs,#number of epoch\n",
    "    validation_data=testing_generator,#our validation generator\n",
    "    #number of iteration per epoch = number of data / batch size\n",
    "    validation_steps=np.floor(testing_generator.n / batch_size))"
   ]
  },
  {
   "cell_type": "code",
   "execution_count": 4,
   "id": "a2ccf287",
   "metadata": {},
   "outputs": [
    {
     "name": "stdout",
     "output_type": "stream",
     "text": [
      "Training is done!\n",
      "Model is successfully stored!\n"
     ]
    }
   ],
   "source": [
    "print(\"Training is done!\")\n",
    "model.save('./model/modelLeNet5.h5')\n",
    "print(\"Model is successfully stored!\")"
   ]
  },
  {
   "cell_type": "code",
   "execution_count": null,
   "id": "32b199e1",
   "metadata": {},
   "outputs": [],
   "source": []
  }
 ],
 "metadata": {
  "kernelspec": {
   "display_name": "Python 3 (ipykernel)",
   "language": "python",
   "name": "python3"
  },
  "language_info": {
   "codemirror_mode": {
    "name": "ipython",
    "version": 3
   },
   "file_extension": ".py",
   "mimetype": "text/x-python",
   "name": "python",
   "nbconvert_exporter": "python",
   "pygments_lexer": "ipython3",
   "version": "3.9.7"
  }
 },
 "nbformat": 4,
 "nbformat_minor": 5
}
