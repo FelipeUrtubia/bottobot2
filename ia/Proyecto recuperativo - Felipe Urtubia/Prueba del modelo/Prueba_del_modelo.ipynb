{
 "cells": [
  {
   "cell_type": "code",
   "execution_count": 1,
   "metadata": {},
   "outputs": [],
   "source": [
    "import os\n",
    "import cv2\n",
    "import numpy as np\n",
    "import tensorflow as tf\n",
    "\n",
    "CATEGORIES = ['Comedor', 'Gamer', 'Mesedora', 'Taburete', 'Terraza']\n",
    "\n",
    "def prepare(filepath):\n",
    "    IMG_SIZE = 70\n",
    "    img_array = cv2.imread(filepath, cv2.IMREAD_GRAYSCALE)\n",
    "    new_array = cv2.resize(img_array, (IMG_SIZE, IMG_SIZE))\n",
    "    return new_array.reshape(-1, IMG_SIZE, IMG_SIZE, 1)\n",
    "\n",
    "model = tf.keras.models.load_model('Modelov1.h5')"
   ]
  },
  {
   "cell_type": "code",
   "execution_count": 3,
   "metadata": {},
   "outputs": [
    {
     "name": "stdout",
     "output_type": "stream",
     "text": [
      "['1.jpg', 'comedor1.jpg', 'comedor2.jpg', 'comedor3.jpg', 'comedor4.jpg', 'comedor5.jpg', 'gamer1.jpg', 'gamer2.jpg', 'gamer3.png', 'gamer4.jpg', 'gamer5.jpg', 'mesedora1.jpg', 'mesedora2.jpg', 'mesedora3.jpg', 'mesedora4.jpg', 'mesedora5.jpg', 'taburete1.jpg', 'taburete2.jpg', 'taburete3.png', 'taburete4.png', 'terraza1.jpg', 'terraza2.jpg', 'terraza3.jpg', 'terraza4.jpg', 'terraza5.jpg']\n",
      "Taburete\n",
      "Comedor\n",
      "Comedor\n",
      "Comedor\n",
      "Comedor\n",
      "Comedor\n",
      "Gamer\n",
      "Gamer\n",
      "Gamer\n",
      "Gamer\n",
      "Gamer\n",
      "Mesedora\n",
      "Mesedora\n",
      "Mesedora\n",
      "Mesedora\n",
      "Mesedora\n",
      "Taburete\n",
      "Taburete\n",
      "Taburete\n",
      "Taburete\n",
      "Terraza\n",
      "Terraza\n",
      "Terraza\n",
      "Terraza\n",
      "Terraza\n"
     ]
    }
   ],
   "source": [
    "img=[]\n",
    "\n",
    "BASE_DIR='imagenes_de_prueba/'\n",
    "\n",
    "for image in os.listdir(BASE_DIR):\n",
    "    img.append(image)\n",
    "\n",
    "print(img)\n",
    "\n",
    "for image in img:\n",
    "    prediction = model.predict([prepare(BASE_DIR+image)])\n",
    "    compare = prediction.flatten()\n",
    "    print(CATEGORIES[np.argmax(compare)])"
   ]
  }
 ],
 "metadata": {
  "interpreter": {
   "hash": "813ae60c4a6e075adccc991e5600c335fb50a37a1d3538e65f914da64b8ee02b"
  },
  "kernelspec": {
   "display_name": "Python 3 (ipykernel)",
   "language": "python",
   "name": "python3"
  },
  "language_info": {
   "codemirror_mode": {
    "name": "ipython",
    "version": 3
   },
   "file_extension": ".py",
   "mimetype": "text/x-python",
   "name": "python",
   "nbconvert_exporter": "python",
   "pygments_lexer": "ipython3",
   "version": "3.9.7"
  }
 },
 "nbformat": 4,
 "nbformat_minor": 2
}
